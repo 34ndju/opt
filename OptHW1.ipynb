{
 "cells": [
  {
   "cell_type": "code",
   "execution_count": 237,
   "metadata": {},
   "outputs": [],
   "source": [
    "import numpy as np\n",
    "import pprint\n",
    "import matplotlib.pyplot as plt\n",
    "%matplotlib inline\n",
    "plt.rcParams.update({'font.size': 16})  # enlarge matplotlib fonts"
   ]
  },
  {
   "cell_type": "code",
   "execution_count": 238,
   "metadata": {},
   "outputs": [],
   "source": [
    "# Create A matrices\n",
    "A_matrices = []\n",
    "b_vectors = []\n",
    "for k in range(1,6):\n",
    "    A_k = np.array([[0 for _ in range(10)] for _ in range(10)])\n",
    "    for i in range(1,11):\n",
    "        for j in range(1,11):\n",
    "            if i < j:\n",
    "                A_k[i-1][j-1] = np.exp(i/j) * np.cos(i*j) * np.sin(k)\n",
    "            elif i > j:\n",
    "                A_k[i-1][j-1] = np.exp(j/i) * np.cos(j*i) * np.sin(k)\n",
    "    for i in range(1,11):\n",
    "        A_k[i-1][i-1] = (i/10)*np.abs(np.sin(k)) + sum([np.abs(A_k[i-1][j-1]) if i != j else 0 for j in range(1,11)])\n",
    "    A_matrices.append(A_k)\n",
    "    \n",
    "    b_k = np.array([0 for _ in range(10)])\n",
    "    for i in range(1,11):\n",
    "        b_k[i-1] = np.exp(i/k) * np.sin(i*k)\n",
    "    b_vectors.append(b_k)"
   ]
  },
  {
   "cell_type": "code",
   "execution_count": 239,
   "metadata": {},
   "outputs": [],
   "source": [
    "def eval_f(x,k):\n",
    "    return np.inner(x, A_matrices[k].dot(x)) - np.inner(b_vectors[k],x)"
   ]
  },
  {
   "cell_type": "code",
   "execution_count": 240,
   "metadata": {},
   "outputs": [],
   "source": [
    "def f(x):\n",
    "    return max([eval_f(x,k) for k in range(5)])"
   ]
  },
  {
   "cell_type": "code",
   "execution_count": 241,
   "metadata": {
    "scrolled": true
   },
   "outputs": [
    {
     "data": {
      "text/plain": [
       "5287"
      ]
     },
     "execution_count": 241,
     "metadata": {},
     "output_type": "execute_result"
    }
   ],
   "source": [
    "x1 = np.array([1] * 10)\n",
    "f(x1)"
   ]
  },
  {
   "cell_type": "code",
   "execution_count": 242,
   "metadata": {},
   "outputs": [],
   "source": [
    "def eval_subgradient(x,k):\n",
    "    return 2*A_matrices[k].dot(x) - b_vectors[k]"
   ]
  },
  {
   "cell_type": "code",
   "execution_count": 243,
   "metadata": {},
   "outputs": [],
   "source": [
    "def get_subgradient(x):\n",
    "    max_k = 0\n",
    "    for k in range(1,5):\n",
    "        if eval_f(x,k) > eval_f(x,max_k):\n",
    "            max_k = k\n",
    "    \n",
    "    return A_matrices[max_k].dot(x) - b_vectors[max_k]"
   ]
  },
  {
   "cell_type": "code",
   "execution_count": 244,
   "metadata": {},
   "outputs": [
    {
     "data": {
      "text/plain": [
       "array([   -2,    -4,     2,    45,   144,   112,  -714, -2945, -3337,\n",
       "       11986])"
      ]
     },
     "execution_count": 244,
     "metadata": {},
     "output_type": "execute_result"
    }
   ],
   "source": [
    "get_subgradient(x1)"
   ]
  },
  {
   "cell_type": "code",
   "execution_count": 245,
   "metadata": {},
   "outputs": [
    {
     "data": {
      "text/plain": [
       "56"
      ]
     },
     "execution_count": 245,
     "metadata": {},
     "output_type": "execute_result"
    }
   ],
   "source": [
    "f(2*x1) - (f(x1) + np.inner(get_subgradient(x1), x1))"
   ]
  },
  {
   "cell_type": "code",
   "execution_count": 246,
   "metadata": {},
   "outputs": [
    {
     "data": {
      "text/plain": [
       "-0.6822217640385775"
      ]
     },
     "execution_count": 246,
     "metadata": {},
     "output_type": "execute_result"
    }
   ],
   "source": [
    "T = 10000\n",
    "C = 0.09 #3.33\n",
    "\n",
    "iterates = [x1]\n",
    "iterate_values = [f(x1)]\n",
    "min_iterate = x1\n",
    "min_iterate_values = [f(x1)]\n",
    "\n",
    "for t in range(2,T+1):\n",
    "    learning_rate = C/np.sqrt(t-1)\n",
    "    subg = get_subgradient(iterates[-1])\n",
    "    subg_norm = np.linalg.norm(subg, 2)\n",
    "    iterate = iterates[-1] - learning_rate * subg / subg_norm\n",
    "    \n",
    "    if f(iterate) < f(min_iterate):\n",
    "        min_iterate = iterate\n",
    "        \n",
    "    iterates.append(iterate)\n",
    "    iterate_values.append(f(iterate))\n",
    "    min_iterate_values.append(f(min_iterate))\n",
    "\n",
    "f(min_iterate) "
   ]
  },
  {
   "cell_type": "code",
   "execution_count": 247,
   "metadata": {},
   "outputs": [
    {
     "name": "stdout",
     "output_type": "stream",
     "text": [
      "-0.6822217640385775\n"
     ]
    },
    {
     "data": {
      "image/png": "[encoded data removed]",
      "text/plain": [
       "<Figure size 432x288 with 1 Axes>"
      ]
     },
     "metadata": {
      "needs_background": "light"
     },
     "output_type": "display_data"
    }
   ],
   "source": [
    "ts = [i+1 for i in range(T)]\n",
    "print(f(min_iterate))\n",
    "plt.loglog(ts, [a-0.6822217640385775 for a in min_iterate_values])\n",
    "    \n",
    "plt.title(\"Given learning rate\")\n",
    "\n",
    "plt.xlabel(\"timesteps\")\n",
    "plt.ylabel(\"suboptimality gap\")\n",
    "\n",
    "plt.show()"
   ]
  },
  {
   "cell_type": "code",
   "execution_count": 248,
   "metadata": {},
   "outputs": [
    {
     "data": {
      "text/plain": [
       "array([-3.33482530e+00, -7.15170953e+00,  1.56204336e+00,  4.60568297e+01,\n",
       "        1.41886721e+02,  1.04088145e+02, -7.17364159e+02, -2.94055694e+03,\n",
       "       -3.33499380e+03,  1.19858986e+04])"
      ]
     },
     "execution_count": 248,
     "metadata": {},
     "output_type": "execute_result"
    }
   ],
   "source": [
    "2*A_matrices[0].dot(min_iterate) - b_vectors[0]"
   ]
  },
  {
   "cell_type": "code",
   "execution_count": 249,
   "metadata": {},
   "outputs": [
    {
     "data": {
      "text/plain": [
       "(array([0.56866569, 0.65222705, 1.76895156, 2.14117705, 2.8694168 ,\n",
       "        3.45020499, 4.58131106, 6.02590403, 6.29715167, 7.6449901 ]),\n",
       " array([[-0.74323189,  0.51727724, -0.00413651, -0.34629272,  0.10055501,\n",
       "          0.13738762,  0.14494   , -0.02860397,  0.09324388, -0.02424809],\n",
       "        [ 0.05119353, -0.14150837,  0.62729787, -0.35380929,  0.49357045,\n",
       "         -0.00826762, -0.13331032, -0.08147142, -0.43610462, -0.01985852],\n",
       "        [-0.32058141,  0.17989503,  0.00318078,  0.39518131, -0.18797923,\n",
       "         -0.33662784, -0.51907523,  0.14376082, -0.49392698,  0.1611283 ],\n",
       "        [ 0.29316973,  0.15690128, -0.16878211, -0.68145381, -0.32901697,\n",
       "          0.01481985, -0.34817325,  0.39189791, -0.05056674,  0.1035829 ],\n",
       "        [-0.01242685,  0.1003634 ,  0.46974873,  0.04560171, -0.14852769,\n",
       "         -0.31591169, -0.3246794 ,  0.04778484,  0.55470994, -0.47933859],\n",
       "        [-0.26458996, -0.43777148, -0.02078613, -0.25987912, -0.29687036,\n",
       "         -0.57149462,  0.43818679,  0.09188106, -0.17732015, -0.15410621],\n",
       "        [ 0.20852625,  0.29556574,  0.10106792, -0.14434681, -0.20594285,\n",
       "         -0.36029383,  0.04790423, -0.69958398,  0.06206539,  0.41269625],\n",
       "        [-0.18368596, -0.25269788,  0.3056661 ,  0.04572006,  0.02500047,\n",
       "         -0.01699402,  0.01640925,  0.34250067,  0.38926616,  0.73270951],\n",
       "        [-0.27014062, -0.41998742,  0.14931341, -0.08128829, -0.50486618,\n",
       "          0.50686869, -0.25718647, -0.3747527 , -0.0454576 , -0.03571742],\n",
       "        [-0.18948005, -0.35510275, -0.48056825, -0.18762193,  0.44109944,\n",
       "         -0.23258494, -0.4521324 , -0.24577125,  0.24084287,  0.01882972]]))"
      ]
     },
     "execution_count": 249,
     "metadata": {},
     "output_type": "execute_result"
    }
   ],
   "source": [
    "np.linalg.eigh(A_matrices[0])"
   ]
  },
  {
   "cell_type": "code",
   "execution_count": 250,
   "metadata": {},
   "outputs": [
    {
     "data": {
      "text/plain": [
       "array([-0.74323189,  0.05119353, -0.32058141,  0.29316973, -0.01242685,\n",
       "       -0.26458996,  0.20852625, -0.18368596, -0.27014062, -0.18948005])"
      ]
     },
     "execution_count": 250,
     "metadata": {},
     "output_type": "execute_result"
    }
   ],
   "source": [
    "eig = np.array([x[4] for x in np.linalg.eig(A_matrices[0])[1]])\n",
    "eig"
   ]
  },
  {
   "cell_type": "code",
   "execution_count": 251,
   "metadata": {
    "scrolled": true
   },
   "outputs": [
    {
     "data": {
      "text/plain": [
       "array([-0.84530095,  0.05822401, -0.3646073 ,  0.33343113, -0.01413345,\n",
       "       -0.30092646,  0.23716344, -0.20891181, -0.30723941, -0.21550161])"
      ]
     },
     "execution_count": 251,
     "metadata": {},
     "output_type": "execute_result"
    }
   ],
   "source": [
    "2*A_matrices[0].dot(eig) "
   ]
  },
  {
   "cell_type": "code",
   "execution_count": 252,
   "metadata": {},
   "outputs": [
    {
     "data": {
      "text/plain": [
       "array([-0.42265047,  0.02911201, -0.18230365,  0.16671557, -0.00706673,\n",
       "       -0.15046323,  0.11858172, -0.10445591, -0.1536197 , -0.1077508 ])"
      ]
     },
     "execution_count": 252,
     "metadata": {},
     "output_type": "execute_result"
    }
   ],
   "source": [
    "A_matrices[0].dot(eig)"
   ]
  },
  {
   "cell_type": "code",
   "execution_count": 253,
   "metadata": {},
   "outputs": [
    {
     "data": {
      "text/plain": [
       "1787.4242459581778"
      ]
     },
     "execution_count": 253,
     "metadata": {},
     "output_type": "execute_result"
    }
   ],
   "source": [
    "#Polyak step size\n",
    "T = 10000\n",
    "\n",
    "iterates = [x1]\n",
    "iterate_values = [f(x1)]\n",
    "min_iterate = x1\n",
    "min_iterate_values = [f(x1)]\n",
    "\n",
    "num = f(iterate) + 0.6822217640385775   #3.33\n",
    "\n",
    "for t in range(2,T+1):\n",
    "    subg = get_subgradient(iterates[-1])\n",
    "    subg_norm = np.linalg.norm(subg, 2)\n",
    "    learning_rate = num/subg_norm\n",
    "    \n",
    "    iterate = iterates[-1] - learning_rate * subg / subg_norm\n",
    "    \n",
    "    if f(iterate) < f(min_iterate):\n",
    "        min_iterate = iterate\n",
    "        \n",
    "    iterates.append(iterate)\n",
    "    iterate_values.append(f(iterate))\n",
    "    min_iterate_values.append(f(min_iterate))\n",
    "\n",
    "f(min_iterate) "
   ]
  },
  {
   "cell_type": "code",
   "execution_count": 254,
   "metadata": {},
   "outputs": [
    {
     "name": "stdout",
     "output_type": "stream",
     "text": [
      "1787.4242459581778\n"
     ]
    },
    {
     "data": {
      "image/png": "[encoded data removed]",
      "text/plain": [
       "<Figure size 432x288 with 1 Axes>"
      ]
     },
     "metadata": {
      "needs_background": "light"
     },
     "output_type": "display_data"
    }
   ],
   "source": [
    "ts = [i+1 for i in range(T)]\n",
    "print(f(min_iterate))\n",
    "plt.loglog(ts, [a-0.6822217640385775 for a in min_iterate_values])\n",
    "    \n",
    "plt.title(\"Polyak step size\")\n",
    "\n",
    "plt.xlabel(\"timesteps\")\n",
    "plt.ylabel(\"suboptimality gap\")\n",
    "\n",
    "plt.show()"
   ]
  },
  {
   "cell_type": "code",
   "execution_count": null,
   "metadata": {},
   "outputs": [],
   "source": []
  },
  {
   "cell_type": "code",
   "execution_count": null,
   "metadata": {},
   "outputs": [],
   "source": []
  }
 ],
 "metadata": {
  "kernelspec": {
   "display_name": "Python 3",
   "language": "python",
   "name": "python3"
  },
  "language_info": {
   "codemirror_mode": {
    "name": "ipython",
    "version": 3
   },
   "file_extension": ".py",
   "mimetype": "text/x-python",
   "name": "python",
   "nbconvert_exporter": "python",
   "pygments_lexer": "ipython3",
   "version": "3.7.1"
  }
 },
 "nbformat": 4,
 "nbformat_minor": 2
}
