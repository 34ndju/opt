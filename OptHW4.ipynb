{
 "cells": [
  {
   "cell_type": "code",
   "execution_count": 127,
   "metadata": {},
   "outputs": [],
   "source": [
    "import numpy as np\n",
    "import pprint\n",
    "import matplotlib.pyplot as plt\n",
    "%matplotlib inline\n",
    "plt.rcParams.update({'font.size': 16})  # enlarge matplotlib fonts\n",
    "n = 20"
   ]
  },
  {
   "cell_type": "code",
   "execution_count": 128,
   "metadata": {},
   "outputs": [],
   "source": [
    "def get_gradient(x):\n",
    "    arr = np.array([0.0]*n)\n",
    "    for i in range(n):\n",
    "        arr[i] = 1/(1-x[i]) - 1/(1+x[i])\n",
    "    return arr"
   ]
  },
  {
   "cell_type": "code",
   "execution_count": 129,
   "metadata": {},
   "outputs": [],
   "source": [
    "def get_hessian(x):\n",
    "    mat = np.array([[0.0]*n for _ in n])\n",
    "    for i in range(n):\n",
    "        mat[i][i] = ((1+x[i])**2 + (1-x[i])**2)/((1-x[i]**2)**2)\n",
    "    return mat"
   ]
  },
  {
   "cell_type": "code",
   "execution_count": 130,
   "metadata": {},
   "outputs": [],
   "source": [
    "def get_hessian_inv(x):\n",
    "    mat = np.array([[0.0]*n for _ in range(n)])\n",
    "    for i in range(n):\n",
    "        mat[i][i] = ((1+x[i])**2) * ((1-x[i])**2) / ((1+x[i])**2 + (1-x[i])**2)\n",
    "#         mat[i][i] = 1 / ((1+x[i])**2 + (1-x[i])**2)\n",
    "    return mat"
   ]
  },
  {
   "cell_type": "code",
   "execution_count": 131,
   "metadata": {},
   "outputs": [],
   "source": [
    "def get_dual_norm(v,x):\n",
    "    return np.sqrt(np.inner(v, get_hessian_inv(x).dot(v)))"
   ]
  },
  {
   "cell_type": "code",
   "execution_count": 132,
   "metadata": {},
   "outputs": [],
   "source": [
    "x = np.array([0.0]*n)\n",
    "gamma = 0.1\n",
    "t = 0\n",
    "v = 20\n",
    "c = np.array([1.0]*n)\n",
    "beta = 0.01"
   ]
  },
  {
   "cell_type": "code",
   "execution_count": 134,
   "metadata": {},
   "outputs": [
    {
     "name": "stdout",
     "output_type": "stream",
     "text": [
      "done! [-1. -1. -1. -1. -1. -1. -1. -1. -1. -1. -1. -1. -1. -1. -1. -1. -1. -1.\n",
      " -1. -1.]\n"
     ]
    }
   ],
   "source": [
    "while t < (1/eps) * (v + (beta + np.sqrt(v))*beta / (1-beta)):\n",
    "    t = t + gamma/get_dual_norm(c,x)\n",
    "    lam = get_dual_norm(t*c + get_gradient(x), x)\n",
    "    eps = lam**2 / (1+lam)\n",
    "    \n",
    "    x = x - (1/(1+eps)) * get_hessian_inv(x).dot(t*c + get_gradient(x))\n",
    "    \n",
    "print('done!', x)"
   ]
  }
 ],
 "metadata": {
  "kernelspec": {
   "display_name": "Python 3",
   "language": "python",
   "name": "python3"
  },
  "language_info": {
   "codemirror_mode": {
    "name": "ipython",
    "version": 3
   },
   "file_extension": ".py",
   "mimetype": "text/x-python",
   "name": "python",
   "nbconvert_exporter": "python",
   "pygments_lexer": "ipython3",
   "version": "3.7.1"
  }
 },
 "nbformat": 4,
 "nbformat_minor": 2
}
